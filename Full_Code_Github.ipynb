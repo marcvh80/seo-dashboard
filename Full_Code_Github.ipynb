{
 "cells": [
  {
   "cell_type": "code",
   "execution_count": 38,
   "metadata": {
    "ExecuteTime": {
     "end_time": "2020-10-12T09:26:24.747028Z",
     "start_time": "2020-10-12T09:26:24.727826Z"
    }
   },
   "outputs": [],
   "source": [
    "#export .xls from SEMrush for a period / day, save to desktop\n",
    "#https://www.semrush.com/tracking/landscape/3317965.html?domain_1=expert.nl&domain_2=coolblue.nl&domain_3=wehkamp.nl&domain_4=mediamarkt.nl&domain_5=bcc.nl"
   ]
  },
  {
   "cell_type": "code",
   "execution_count": 45,
   "metadata": {
    "ExecuteTime": {
     "end_time": "2020-10-12T09:29:20.819755Z",
     "start_time": "2020-10-12T09:29:20.803795Z"
    }
   },
   "outputs": [],
   "source": [
    "#import all libraries, widgets and ignore warnings\n",
    "import win32com.client as win32\n",
    "import os\n",
    "import pandas as pd\n",
    "import numpy as np\n",
    "import re\n",
    "import matplotlib as mpl\n",
    "import matplotlib.pyplot as plt\n",
    "%matplotlib inline\n",
    "from ipywidgets import interactive, widgets, interact, interact_manual\n",
    "import ipywidgets as widgets\n",
    "from IPython.core.display import display, HTML\n",
    "from pivottablejs import pivot_ui\n",
    "\n",
    "import warnings\n",
    "warnings.simplefilter('ignore')"
   ]
  },
  {
   "cell_type": "raw",
   "metadata": {},
   "source": [
    "# CAN THIS BE AUTOMATED? ⇩"
   ]
  },
  {
   "cell_type": "code",
   "execution_count": null,
   "metadata": {},
   "outputs": [],
   "source": [
    "#convert .xls to .xlsx\n",
    "fname = \"C:\\\\Users\\\\marc.herrikhuijzen\\\\Desktop\\\\{exportSEMrush.xls}\"\n",
    "excel = win32.gencache.EnsureDispatch('Excel.Application')\n",
    "wb = excel.Workbooks.Open(fname)\n",
    "#fileformet 51 == xlsx format\n",
    "wb.SaveAs(\"C:\\\\Users\\\\marc.herrikhuijzen\\\\Desktop\\\\PythonProjects\\\\reporting\\\\rankings_converted\\\\20200930\", FileFormat = 51)\n",
    "wb.Close()\n",
    "excel.Application.Quit()"
   ]
  },
  {
   "cell_type": "code",
   "execution_count": 6,
   "metadata": {
    "ExecuteTime": {
     "end_time": "2020-10-09T14:40:47.577258Z",
     "start_time": "2020-10-09T14:40:47.329920Z"
    }
   },
   "outputs": [
    {
     "data": {
      "text/html": [
       "<div>\n",
       "<style scoped>\n",
       "    .dataframe tbody tr th:only-of-type {\n",
       "        vertical-align: middle;\n",
       "    }\n",
       "\n",
       "    .dataframe tbody tr th {\n",
       "        vertical-align: top;\n",
       "    }\n",
       "\n",
       "    .dataframe thead th {\n",
       "        text-align: right;\n",
       "    }\n",
       "</style>\n",
       "<table border=\"1\" class=\"dataframe\">\n",
       "  <thead>\n",
       "    <tr style=\"text-align: right;\">\n",
       "      <th></th>\n",
       "      <th>Keyword</th>\n",
       "      <th>Rankings_Expert</th>\n",
       "      <th>*.expert.nl/*_20200930_type</th>\n",
       "      <th>Expert_url</th>\n",
       "      <th>*.expert.nl/*_difference</th>\n",
       "      <th>Rankings_Coolblue</th>\n",
       "      <th>*.coolblue.nl/*_20200930_type</th>\n",
       "      <th>Coolblue_url</th>\n",
       "      <th>*.coolblue.nl/*_difference</th>\n",
       "      <th>Rankings_Wehkamp</th>\n",
       "      <th>...</th>\n",
       "      <th>Mediamarkt_url</th>\n",
       "      <th>*.mediamarkt.nl/*_difference</th>\n",
       "      <th>Rankings_BCC</th>\n",
       "      <th>*.bcc.nl/*_20200930_type</th>\n",
       "      <th>BCC_url</th>\n",
       "      <th>*.bcc.nl/*_difference</th>\n",
       "      <th>Tags</th>\n",
       "      <th>CPC</th>\n",
       "      <th>Search_Volume</th>\n",
       "      <th>Datum</th>\n",
       "    </tr>\n",
       "  </thead>\n",
       "  <tbody>\n",
       "    <tr>\n",
       "      <th>0</th>\n",
       "      <td>beko koelkast</td>\n",
       "      <td>1</td>\n",
       "      <td>organic</td>\n",
       "      <td>\"https://www.expert.nl/witgoed/koelkasten/_mer...</td>\n",
       "      <td>0</td>\n",
       "      <td>29</td>\n",
       "      <td>reviews</td>\n",
       "      <td>\"https://www.coolblue.nl/product/475729/beko-c...</td>\n",
       "      <td>0</td>\n",
       "      <td>31</td>\n",
       "      <td>...</td>\n",
       "      <td>\"https://www.mediamarkt.nl/nl/category/_beko-k...</td>\n",
       "      <td>0</td>\n",
       "      <td>15</td>\n",
       "      <td>organic</td>\n",
       "      <td>\"https://www.bcc.nl/keuken/koelkast/koel-vries...</td>\n",
       "      <td>0</td>\n",
       "      <td>keuken|koelkast</td>\n",
       "      <td>0.46</td>\n",
       "      <td>2400</td>\n",
       "      <td>2020-09-30</td>\n",
       "    </tr>\n",
       "    <tr>\n",
       "      <th>1</th>\n",
       "      <td>beko vaatwasser</td>\n",
       "      <td>1</td>\n",
       "      <td>organic</td>\n",
       "      <td>\"https://www.expert.nl/witgoed/vaatwassers/_me...</td>\n",
       "      <td>0</td>\n",
       "      <td>28</td>\n",
       "      <td>reviews</td>\n",
       "      <td>\"https://www.coolblue.nl/product/599201/beko-d...</td>\n",
       "      <td>0</td>\n",
       "      <td>20</td>\n",
       "      <td>...</td>\n",
       "      <td>\"https://www.mediamarkt.nl/nl/category/_beko-v...</td>\n",
       "      <td>0</td>\n",
       "      <td>11</td>\n",
       "      <td>organic</td>\n",
       "      <td>\"https://www.bcc.nl/keuken/vaatwasser/beko\"</td>\n",
       "      <td>0</td>\n",
       "      <td>keuken|vaatwasser</td>\n",
       "      <td>0.47</td>\n",
       "      <td>2400</td>\n",
       "      <td>2020-09-30</td>\n",
       "    </tr>\n",
       "    <tr>\n",
       "      <th>2</th>\n",
       "      <td>beko wasmachine</td>\n",
       "      <td>1</td>\n",
       "      <td>organic</td>\n",
       "      <td>\"https://www.expert.nl/witgoed/wasmachines/_me...</td>\n",
       "      <td>0</td>\n",
       "      <td>22</td>\n",
       "      <td>reviews</td>\n",
       "      <td>\"https://www.coolblue.nl/product/727917/beko-w...</td>\n",
       "      <td>0</td>\n",
       "      <td>26</td>\n",
       "      <td>...</td>\n",
       "      <td>\"https://www.mediamarkt.nl/nl/category/_beko-w...</td>\n",
       "      <td>0</td>\n",
       "      <td>8</td>\n",
       "      <td>organic</td>\n",
       "      <td>\"https://www.bcc.nl/huishouden/wasmachine/beko\"</td>\n",
       "      <td>0</td>\n",
       "      <td>huishouden|wasmachine</td>\n",
       "      <td>0.56</td>\n",
       "      <td>5400</td>\n",
       "      <td>2020-09-30</td>\n",
       "    </tr>\n",
       "    <tr>\n",
       "      <th>3</th>\n",
       "      <td>combi magnetron</td>\n",
       "      <td>1</td>\n",
       "      <td>site links</td>\n",
       "      <td>\"https://www.expert.nl/koken/magnetrons/combim...</td>\n",
       "      <td>0</td>\n",
       "      <td>3</td>\n",
       "      <td>site links</td>\n",
       "      <td>\"https://www.coolblue.nl/magnetrons/combi-magn...</td>\n",
       "      <td>0</td>\n",
       "      <td>39</td>\n",
       "      <td>...</td>\n",
       "      <td>\"https://www.mediamarkt.nl/nl/category/_combim...</td>\n",
       "      <td>0</td>\n",
       "      <td>4</td>\n",
       "      <td>site links</td>\n",
       "      <td>\"https://www.bcc.nl/keuken/magnetron-en-oven/c...</td>\n",
       "      <td>0</td>\n",
       "      <td>combimagnetron|keuken</td>\n",
       "      <td>0.30</td>\n",
       "      <td>14800</td>\n",
       "      <td>2020-09-30</td>\n",
       "    </tr>\n",
       "    <tr>\n",
       "      <th>4</th>\n",
       "      <td>combimagnetron</td>\n",
       "      <td>1</td>\n",
       "      <td>site links</td>\n",
       "      <td>\"https://www.expert.nl/koken/magnetrons/combim...</td>\n",
       "      <td>0</td>\n",
       "      <td>4</td>\n",
       "      <td>site links</td>\n",
       "      <td>\"https://www.coolblue.nl/magnetrons/combi-magn...</td>\n",
       "      <td>0</td>\n",
       "      <td>20</td>\n",
       "      <td>...</td>\n",
       "      <td>\"https://www.mediamarkt.nl/nl/category/_combim...</td>\n",
       "      <td>0</td>\n",
       "      <td>3</td>\n",
       "      <td>site links</td>\n",
       "      <td>\"https://www.bcc.nl/keuken/magnetron-en-oven/c...</td>\n",
       "      <td>0</td>\n",
       "      <td>combimagnetron|keuken</td>\n",
       "      <td>0.30</td>\n",
       "      <td>27100</td>\n",
       "      <td>2020-09-30</td>\n",
       "    </tr>\n",
       "  </tbody>\n",
       "</table>\n",
       "<p>5 rows × 25 columns</p>\n",
       "</div>"
      ],
      "text/plain": [
       "           Keyword  Rankings_Expert *.expert.nl/*_20200930_type  \\\n",
       "0    beko koelkast                1                     organic   \n",
       "1  beko vaatwasser                1                     organic   \n",
       "2  beko wasmachine                1                     organic   \n",
       "3  combi magnetron                1                  site links   \n",
       "4   combimagnetron                1                  site links   \n",
       "\n",
       "                                          Expert_url  \\\n",
       "0  \"https://www.expert.nl/witgoed/koelkasten/_mer...   \n",
       "1  \"https://www.expert.nl/witgoed/vaatwassers/_me...   \n",
       "2  \"https://www.expert.nl/witgoed/wasmachines/_me...   \n",
       "3  \"https://www.expert.nl/koken/magnetrons/combim...   \n",
       "4  \"https://www.expert.nl/koken/magnetrons/combim...   \n",
       "\n",
       "   *.expert.nl/*_difference  Rankings_Coolblue *.coolblue.nl/*_20200930_type  \\\n",
       "0                         0                 29                       reviews   \n",
       "1                         0                 28                       reviews   \n",
       "2                         0                 22                       reviews   \n",
       "3                         0                  3                    site links   \n",
       "4                         0                  4                    site links   \n",
       "\n",
       "                                        Coolblue_url  \\\n",
       "0  \"https://www.coolblue.nl/product/475729/beko-c...   \n",
       "1  \"https://www.coolblue.nl/product/599201/beko-d...   \n",
       "2  \"https://www.coolblue.nl/product/727917/beko-w...   \n",
       "3  \"https://www.coolblue.nl/magnetrons/combi-magn...   \n",
       "4  \"https://www.coolblue.nl/magnetrons/combi-magn...   \n",
       "\n",
       "   *.coolblue.nl/*_difference  Rankings_Wehkamp  ...  \\\n",
       "0                           0                31  ...   \n",
       "1                           0                20  ...   \n",
       "2                           0                26  ...   \n",
       "3                           0                39  ...   \n",
       "4                           0                20  ...   \n",
       "\n",
       "                                      Mediamarkt_url  \\\n",
       "0  \"https://www.mediamarkt.nl/nl/category/_beko-k...   \n",
       "1  \"https://www.mediamarkt.nl/nl/category/_beko-v...   \n",
       "2  \"https://www.mediamarkt.nl/nl/category/_beko-w...   \n",
       "3  \"https://www.mediamarkt.nl/nl/category/_combim...   \n",
       "4  \"https://www.mediamarkt.nl/nl/category/_combim...   \n",
       "\n",
       "  *.mediamarkt.nl/*_difference  Rankings_BCC  *.bcc.nl/*_20200930_type  \\\n",
       "0                            0            15                   organic   \n",
       "1                            0            11                   organic   \n",
       "2                            0             8                   organic   \n",
       "3                            0             4                site links   \n",
       "4                            0             3                site links   \n",
       "\n",
       "                                             BCC_url *.bcc.nl/*_difference  \\\n",
       "0  \"https://www.bcc.nl/keuken/koelkast/koel-vries...                     0   \n",
       "1        \"https://www.bcc.nl/keuken/vaatwasser/beko\"                     0   \n",
       "2    \"https://www.bcc.nl/huishouden/wasmachine/beko\"                     0   \n",
       "3  \"https://www.bcc.nl/keuken/magnetron-en-oven/c...                     0   \n",
       "4  \"https://www.bcc.nl/keuken/magnetron-en-oven/c...                     0   \n",
       "\n",
       "                    Tags   CPC Search_Volume      Datum  \n",
       "0        keuken|koelkast  0.46          2400 2020-09-30  \n",
       "1      keuken|vaatwasser  0.47          2400 2020-09-30  \n",
       "2  huishouden|wasmachine  0.56          5400 2020-09-30  \n",
       "3  combimagnetron|keuken  0.30         14800 2020-09-30  \n",
       "4  combimagnetron|keuken  0.30         27100 2020-09-30  \n",
       "\n",
       "[5 rows x 25 columns]"
      ]
     },
     "execution_count": 6,
     "metadata": {},
     "output_type": "execute_result"
    }
   ],
   "source": [
    "#read .xlsx into dataframe\n",
    "df_20200930 = pd.read_excel(\"./rankings_converted/20200930.xlsx\", header=7)\n",
    "#replace empty landing pages\n",
    "df_20200930.replace(r'\\s+',np.nan,regex=True).replace('',np.nan, inplace=True)\n",
    "#add date to columns, date should be changed manually\n",
    "df_20200930['Datum'] = '2020-9-30'\n",
    "#to avoid a warning\n",
    "pd.options.mode.chained_assignment = None \n",
    "#date to datetime64 dtype\n",
    "df_20200930['Datum'] =  pd.to_datetime(df_20200930['Datum'], format='%Y%m%d', infer_datetime_format=True)\n",
    "#rename columns\n",
    "df_20200930.rename(columns={'tags':'Tags','*.expert.nl/*_20200930': 'Rankings_Expert', '*.expert.nl/*_20200930_landing': 'Expert_url','*.bcc.nl/*_20200930': 'Rankings_BCC', '*.bcc.nl/*_20200930_landing': 'BCC_url','*.coolblue.nl/*_20200930': 'Rankings_Coolblue', '*.coolblue.nl/*_20200930_landing': 'Coolblue_url','*.mediamarkt.nl/*_20200930': 'Rankings_Mediamarkt', '*.mediamarkt.nl/*_20200930_landing': 'Mediamarkt_url','*.wehkamp.nl/*_20200930': 'Rankings_Wehkamp', '*.wehkamp.nl/*_20200930_landing': 'Wehkamp_url','Search Volume': 'Search_Volume'}, inplace=True)\n",
    "#define which columns will be used\n",
    "use_cols_20200930 = df_20200930[['Datum','Keyword','Tags','Rankings_Expert','Expert_url','Rankings_BCC','BCC_url','Rankings_Coolblue','Coolblue_url','Rankings_Mediamarkt','Mediamarkt_url','Rankings_Wehkamp','Wehkamp_url','CPC','Search_Volume']]\n",
    "#check if it works\n",
    "df_20200930.head()"
   ]
  },
  {
   "cell_type": "code",
   "execution_count": null,
   "metadata": {},
   "outputs": [],
   "source": [
    "#save to new .xlsx file\n",
    "use_cols_20200930.to_excel('./use_cols/20200930.xlsx')"
   ]
  },
  {
   "cell_type": "code",
   "execution_count": 46,
   "metadata": {
    "ExecuteTime": {
     "end_time": "2020-10-12T09:29:30.946206Z",
     "start_time": "2020-10-12T09:29:24.380349Z"
    }
   },
   "outputs": [
    {
     "name": "stdout",
     "output_type": "stream",
     "text": [
      "<class 'pandas.core.frame.DataFrame'>\n",
      "Int64Index: 20556 entries, 0 to 570\n",
      "Data columns (total 16 columns):\n",
      " #   Column               Non-Null Count  Dtype         \n",
      "---  ------               --------------  -----         \n",
      " 0   Unnamed: 0           20556 non-null  int64         \n",
      " 1   Datum                20556 non-null  datetime64[ns]\n",
      " 2   Keyword              20556 non-null  object        \n",
      " 3   Tags                 20556 non-null  object        \n",
      " 4   Rankings_Expert      20556 non-null  int64         \n",
      " 5   Expert_url           17279 non-null  object        \n",
      " 6   Rankings_BCC         20556 non-null  int64         \n",
      " 7   BCC_url              19553 non-null  object        \n",
      " 8   Rankings_Coolblue    20556 non-null  int64         \n",
      " 9   Coolblue_url         20307 non-null  object        \n",
      " 10  Rankings_Mediamarkt  20556 non-null  int64         \n",
      " 11  Mediamarkt_url       19307 non-null  object        \n",
      " 12  Rankings_Wehkamp     20556 non-null  int64         \n",
      " 13  Wehkamp_url          15492 non-null  object        \n",
      " 14  CPC                  20556 non-null  float64       \n",
      " 15  Search_Volume        20556 non-null  int64         \n",
      "dtypes: datetime64[ns](1), float64(1), int64(7), object(7)\n",
      "memory usage: 2.7+ MB\n"
     ]
    }
   ],
   "source": [
    "#combine all files from directory\n",
    "files = [file for file in os.listdir('./use_cols/')]\n",
    "workfile = pd.DataFrame()\n",
    "for file in files:\n",
    "    df = pd.read_excel('./use_cols/'+file)\n",
    "    workfile = pd.concat([workfile, df])\n",
    "#check results\n",
    "workfile.info()"
   ]
  },
  {
   "cell_type": "raw",
   "metadata": {},
   "source": [
    "# OPTIONAL ⇩"
   ]
  },
  {
   "cell_type": "code",
   "execution_count": 47,
   "metadata": {
    "ExecuteTime": {
     "end_time": "2020-10-12T09:29:55.616832Z",
     "start_time": "2020-10-12T09:29:55.175001Z"
    }
   },
   "outputs": [],
   "source": [
    "#categorize all keywords from txt file\n",
    "tags = pd.read_csv('./workfile/tags.txt', sep=';')\n",
    "#merge tags on keywords, check and export to new .csv (workfile)\n",
    "output = workfile.merge(tags, on='Tags')\n",
    "output.head()\n",
    "output.to_csv('./workfile/output.csv', index=False)"
   ]
  },
  {
   "cell_type": "markdown",
   "metadata": {},
   "source": [
    "# CREATE VISIBILITY REPORT"
   ]
  },
  {
   "cell_type": "code",
   "execution_count": 48,
   "metadata": {
    "ExecuteTime": {
     "end_time": "2020-10-12T09:29:59.894290Z",
     "start_time": "2020-10-12T09:29:59.405237Z"
    }
   },
   "outputs": [],
   "source": [
    "#open workfile\n",
    "df = pd.read_csv('./workfile/output.csv',) \n",
    "df.drop('Unnamed: 0', axis=1, inplace=True) #df.drop('Unnamed: 0.1', axis=1, inplace=True) <<-- somehow this gives errors...\n",
    "#replace empty landing pages\n",
    "df.replace(r'\\s+',np.nan,regex=True).replace('',np.nan, inplace=True)"
   ]
  },
  {
   "cell_type": "code",
   "execution_count": 49,
   "metadata": {
    "ExecuteTime": {
     "end_time": "2020-10-12T09:30:00.283631Z",
     "start_time": "2020-10-12T09:30:00.049260Z"
    }
   },
   "outputs": [],
   "source": [
    "#create visibility_dataframe for each website\n",
    "#VIS_EXPERT\n",
    "df_vis_expert = pd.read_excel('./visibility_competitors/vis_expert.xlsx')\n",
    "df_vis_calc = df.merge(df_vis_expert,on='Rankings_Expert', how='outer')\n",
    "df_vis_calc['Visibility_Expert'] = df_vis_calc.Visibility_Expert.astype(float)\n",
    "\n",
    "#VIS_BCC\n",
    "df_vis_bcc = pd.read_excel('./visibility_competitors/vis_bcc.xlsx')\n",
    "df_vis_calc2 = df_vis_calc.merge(df_vis_bcc,on='Rankings_BCC', how='outer')\n",
    "df_vis_calc2['Visibility_BCC'] = df_vis_calc2.Visibility_BCC.astype(float)\n",
    "\n",
    "#VIS_Coolblue\n",
    "df_vis_coolblue = pd.read_excel('./visibility_competitors/vis_coolblue.xlsx')\n",
    "df_vis_calc3 = df_vis_calc2.merge(df_vis_coolblue,on='Rankings_Coolblue', how='outer')\n",
    "df_vis_calc3['Visibility_Coolblue'] = df_vis_calc3.Visibility_Coolblue.astype(float)\n",
    "\n",
    "#VIS_Mediamarkt\n",
    "df_vis_mediamarkt = pd.read_excel('./visibility_competitors/vis_mediamarkt.xlsx')\n",
    "df_vis_calc4 = df_vis_calc3.merge(df_vis_mediamarkt,on='Rankings_Mediamarkt', how='outer')\n",
    "df_vis_calc4['Visibility_Mediamarkt'] = df_vis_calc4.Visibility_Mediamarkt.astype(float)\n",
    "\n",
    "#VIS_Wehkamp\n",
    "df_vis_wehkamp = pd.read_excel('./visibility_competitors/vis_wehkamp.xlsx')\n",
    "df_vis_calc5 = df_vis_calc4.merge(df_vis_wehkamp,on='Rankings_Wehkamp', how='outer')\n",
    "df_vis_calc5['Visibility_Wehkamp'] = df_vis_calc5.Visibility_Wehkamp.astype(float)"
   ]
  },
  {
   "cell_type": "code",
   "execution_count": 50,
   "metadata": {
    "ExecuteTime": {
     "end_time": "2020-10-12T09:30:00.715489Z",
     "start_time": "2020-10-12T09:30:00.648654Z"
    }
   },
   "outputs": [
    {
     "data": {
      "text/html": [
       "<div>\n",
       "<style scoped>\n",
       "    .dataframe tbody tr th:only-of-type {\n",
       "        vertical-align: middle;\n",
       "    }\n",
       "\n",
       "    .dataframe tbody tr th {\n",
       "        vertical-align: top;\n",
       "    }\n",
       "\n",
       "    .dataframe thead th {\n",
       "        text-align: right;\n",
       "    }\n",
       "</style>\n",
       "<table border=\"1\" class=\"dataframe\">\n",
       "  <thead>\n",
       "    <tr style=\"text-align: right;\">\n",
       "      <th></th>\n",
       "      <th>Datum</th>\n",
       "      <th>Keyword</th>\n",
       "      <th>Tags</th>\n",
       "      <th>Rankings_Expert</th>\n",
       "      <th>Expert_url</th>\n",
       "      <th>Rankings_BCC</th>\n",
       "      <th>BCC_url</th>\n",
       "      <th>Rankings_Coolblue</th>\n",
       "      <th>Coolblue_url</th>\n",
       "      <th>Rankings_Mediamarkt</th>\n",
       "      <th>...</th>\n",
       "      <th>Rankings_Wehkamp</th>\n",
       "      <th>Wehkamp_url</th>\n",
       "      <th>CPC</th>\n",
       "      <th>Search_Volume</th>\n",
       "      <th>Categorie</th>\n",
       "      <th>Visibility_Expert</th>\n",
       "      <th>Visibility_BCC</th>\n",
       "      <th>Visibility_Coolblue</th>\n",
       "      <th>Visibility_Mediamarkt</th>\n",
       "      <th>Visibility_Wehkamp</th>\n",
       "    </tr>\n",
       "  </thead>\n",
       "  <tbody>\n",
       "    <tr>\n",
       "      <th>0</th>\n",
       "      <td>2020-01-29</td>\n",
       "      <td>beko koelkast</td>\n",
       "      <td>keuken|koelkast</td>\n",
       "      <td>1.0</td>\n",
       "      <td>https://www.expert.nl/witgoed/koelkasten/_merk...</td>\n",
       "      <td>7</td>\n",
       "      <td>https://www.bcc.nl/keuken/koelkast/beko</td>\n",
       "      <td>20.0</td>\n",
       "      <td>https://www.coolblue.nl/product/475729/beko-cs...</td>\n",
       "      <td>3.0</td>\n",
       "      <td>...</td>\n",
       "      <td>11</td>\n",
       "      <td>https://www.wehkamp.nl/huishouden/beko-shop/be...</td>\n",
       "      <td>0.46</td>\n",
       "      <td>2400.0</td>\n",
       "      <td>Koelkast</td>\n",
       "      <td>1.0000</td>\n",
       "      <td>0.8000</td>\n",
       "      <td>0.3667</td>\n",
       "      <td>0.9333</td>\n",
       "      <td>0.6667</td>\n",
       "    </tr>\n",
       "    <tr>\n",
       "      <th>1</th>\n",
       "      <td>2020-01-29</td>\n",
       "      <td>samsung koelkast</td>\n",
       "      <td>keuken|koelkast</td>\n",
       "      <td>8.0</td>\n",
       "      <td>https://www.expert.nl/witgoed/koelkasten/_merk...</td>\n",
       "      <td>7</td>\n",
       "      <td>https://www.bcc.nl/keuken/koelkast/samsung</td>\n",
       "      <td>2.0</td>\n",
       "      <td>https://www.coolblue.nl/koelkasten/samsung</td>\n",
       "      <td>3.0</td>\n",
       "      <td>...</td>\n",
       "      <td>11</td>\n",
       "      <td>https://www.wehkamp.nl/huishouden/samsung-shop...</td>\n",
       "      <td>0.37</td>\n",
       "      <td>4400.0</td>\n",
       "      <td>Koelkast</td>\n",
       "      <td>0.7667</td>\n",
       "      <td>0.8000</td>\n",
       "      <td>0.9667</td>\n",
       "      <td>0.9333</td>\n",
       "      <td>0.6667</td>\n",
       "    </tr>\n",
       "    <tr>\n",
       "      <th>2</th>\n",
       "      <td>2020-01-29</td>\n",
       "      <td>jbl box</td>\n",
       "      <td>beeld en geluid|bluetooth speaker</td>\n",
       "      <td>5.0</td>\n",
       "      <td>https://www.expert.nl/audio/speakers/bluetooth...</td>\n",
       "      <td>7</td>\n",
       "      <td>https://www.bcc.nl/beeld-en-geluid/speaker/blu...</td>\n",
       "      <td>2.0</td>\n",
       "      <td>https://www.coolblue.nl/draadloze-speakers/blu...</td>\n",
       "      <td>3.0</td>\n",
       "      <td>...</td>\n",
       "      <td>11</td>\n",
       "      <td>https://www.wehkamp.nl/elektronica/jbl/jbl-blu...</td>\n",
       "      <td>0.23</td>\n",
       "      <td>40500.0</td>\n",
       "      <td>Speaker</td>\n",
       "      <td>0.8667</td>\n",
       "      <td>0.8000</td>\n",
       "      <td>0.9667</td>\n",
       "      <td>0.9333</td>\n",
       "      <td>0.6667</td>\n",
       "    </tr>\n",
       "    <tr>\n",
       "      <th>3</th>\n",
       "      <td>2020-04-22</td>\n",
       "      <td>jbl box</td>\n",
       "      <td>beeld en geluid|bluetooth speaker</td>\n",
       "      <td>5.0</td>\n",
       "      <td>https://www.expert.nl/audio/speakers/bluetooth...</td>\n",
       "      <td>8</td>\n",
       "      <td>https://www.bcc.nl/beeld-en-geluid/speaker/blu...</td>\n",
       "      <td>2.0</td>\n",
       "      <td>https://www.coolblue.nl/draadloze-speakers/blu...</td>\n",
       "      <td>3.0</td>\n",
       "      <td>...</td>\n",
       "      <td>11</td>\n",
       "      <td>https://www.wehkamp.nl/elektronica/jbl/jbl-blu...</td>\n",
       "      <td>0.23</td>\n",
       "      <td>40500.0</td>\n",
       "      <td>Speaker</td>\n",
       "      <td>0.8667</td>\n",
       "      <td>0.7667</td>\n",
       "      <td>0.9667</td>\n",
       "      <td>0.9333</td>\n",
       "      <td>0.6667</td>\n",
       "    </tr>\n",
       "    <tr>\n",
       "      <th>4</th>\n",
       "      <td>2020-05-20</td>\n",
       "      <td>bose</td>\n",
       "      <td>algemeen|merken</td>\n",
       "      <td>8.0</td>\n",
       "      <td>https://www.expert.nl/bose</td>\n",
       "      <td>4</td>\n",
       "      <td>https://www.bcc.nl/bose</td>\n",
       "      <td>2.0</td>\n",
       "      <td>https://www.coolblue.nl/bose</td>\n",
       "      <td>3.0</td>\n",
       "      <td>...</td>\n",
       "      <td>11</td>\n",
       "      <td>https://www.wehkamp.nl/merken/bose/</td>\n",
       "      <td>5.89</td>\n",
       "      <td>18100.0</td>\n",
       "      <td>Merken</td>\n",
       "      <td>0.7667</td>\n",
       "      <td>0.9000</td>\n",
       "      <td>0.9667</td>\n",
       "      <td>0.9333</td>\n",
       "      <td>0.6667</td>\n",
       "    </tr>\n",
       "  </tbody>\n",
       "</table>\n",
       "<p>5 rows × 21 columns</p>\n",
       "</div>"
      ],
      "text/plain": [
       "        Datum           Keyword                               Tags  \\\n",
       "0  2020-01-29     beko koelkast                    keuken|koelkast   \n",
       "1  2020-01-29  samsung koelkast                    keuken|koelkast   \n",
       "2  2020-01-29           jbl box  beeld en geluid|bluetooth speaker   \n",
       "3  2020-04-22           jbl box  beeld en geluid|bluetooth speaker   \n",
       "4  2020-05-20              bose                    algemeen|merken   \n",
       "\n",
       "   Rankings_Expert                                         Expert_url  \\\n",
       "0              1.0  https://www.expert.nl/witgoed/koelkasten/_merk...   \n",
       "1              8.0  https://www.expert.nl/witgoed/koelkasten/_merk...   \n",
       "2              5.0  https://www.expert.nl/audio/speakers/bluetooth...   \n",
       "3              5.0  https://www.expert.nl/audio/speakers/bluetooth...   \n",
       "4              8.0                         https://www.expert.nl/bose   \n",
       "\n",
       "  Rankings_BCC                                            BCC_url  \\\n",
       "0            7            https://www.bcc.nl/keuken/koelkast/beko   \n",
       "1            7         https://www.bcc.nl/keuken/koelkast/samsung   \n",
       "2            7  https://www.bcc.nl/beeld-en-geluid/speaker/blu...   \n",
       "3            8  https://www.bcc.nl/beeld-en-geluid/speaker/blu...   \n",
       "4            4                            https://www.bcc.nl/bose   \n",
       "\n",
       "   Rankings_Coolblue                                       Coolblue_url  \\\n",
       "0               20.0  https://www.coolblue.nl/product/475729/beko-cs...   \n",
       "1                2.0         https://www.coolblue.nl/koelkasten/samsung   \n",
       "2                2.0  https://www.coolblue.nl/draadloze-speakers/blu...   \n",
       "3                2.0  https://www.coolblue.nl/draadloze-speakers/blu...   \n",
       "4                2.0                       https://www.coolblue.nl/bose   \n",
       "\n",
       "   Rankings_Mediamarkt  ... Rankings_Wehkamp  \\\n",
       "0                  3.0  ...               11   \n",
       "1                  3.0  ...               11   \n",
       "2                  3.0  ...               11   \n",
       "3                  3.0  ...               11   \n",
       "4                  3.0  ...               11   \n",
       "\n",
       "                                         Wehkamp_url   CPC  Search_Volume  \\\n",
       "0  https://www.wehkamp.nl/huishouden/beko-shop/be...  0.46         2400.0   \n",
       "1  https://www.wehkamp.nl/huishouden/samsung-shop...  0.37         4400.0   \n",
       "2  https://www.wehkamp.nl/elektronica/jbl/jbl-blu...  0.23        40500.0   \n",
       "3  https://www.wehkamp.nl/elektronica/jbl/jbl-blu...  0.23        40500.0   \n",
       "4                https://www.wehkamp.nl/merken/bose/  5.89        18100.0   \n",
       "\n",
       "   Categorie Visibility_Expert  Visibility_BCC  Visibility_Coolblue  \\\n",
       "0   Koelkast            1.0000          0.8000               0.3667   \n",
       "1   Koelkast            0.7667          0.8000               0.9667   \n",
       "2    Speaker            0.8667          0.8000               0.9667   \n",
       "3    Speaker            0.8667          0.7667               0.9667   \n",
       "4     Merken            0.7667          0.9000               0.9667   \n",
       "\n",
       "   Visibility_Mediamarkt  Visibility_Wehkamp  \n",
       "0                 0.9333              0.6667  \n",
       "1                 0.9333              0.6667  \n",
       "2                 0.9333              0.6667  \n",
       "3                 0.9333              0.6667  \n",
       "4                 0.9333              0.6667  \n",
       "\n",
       "[5 rows x 21 columns]"
      ]
     },
     "execution_count": 50,
     "metadata": {},
     "output_type": "execute_result"
    }
   ],
   "source": [
    "#rename file and do some editing\n",
    "df_workfile = df_vis_calc5.dropna(subset=['Keyword'])\n",
    "df_workfile.rename(columns={'Tag2':'Categorie'}, inplace=True)\n",
    "#reset index\n",
    "df_workfile.reset_index()\n",
    "#check if it works\n",
    "df_workfile.head()"
   ]
  },
  {
   "cell_type": "code",
   "execution_count": 51,
   "metadata": {
    "ExecuteTime": {
     "end_time": "2020-10-12T09:30:01.815982Z",
     "start_time": "2020-10-12T09:30:01.665550Z"
    }
   },
   "outputs": [],
   "source": [
    "#create visibilty_dataframe for all websites and export to .csv\n",
    "visibility = df_workfile[['Datum','Keyword','Tags','Categorie','Visibility_Expert','Visibility_Coolblue','Visibility_Mediamarkt','Visibility_Wehkamp','Visibility_BCC']]\n",
    "visibility.fillna(0, inplace=True)\n",
    "visibility.to_csv('./workfile/visibility.csv', index=False)"
   ]
  },
  {
   "cell_type": "code",
   "execution_count": 52,
   "metadata": {
    "ExecuteTime": {
     "end_time": "2020-10-12T09:30:02.479769Z",
     "start_time": "2020-10-12T09:30:02.288357Z"
    }
   },
   "outputs": [],
   "source": [
    "#we are gonna use the following export later on:\n",
    "ranking = df_workfile[['Datum','Keyword','Search_Volume','Tags','Categorie','Rankings_Expert','Rankings_Coolblue','Rankings_Mediamarkt','Rankings_Wehkamp','Rankings_BCC']]\n",
    "ranking.fillna(0, inplace=True)\n",
    "ranking.to_csv('./workfile/ranking.csv', index=False)"
   ]
  },
  {
   "cell_type": "code",
   "execution_count": 53,
   "metadata": {
    "ExecuteTime": {
     "end_time": "2020-10-12T09:30:03.034008Z",
     "start_time": "2020-10-12T09:30:02.935953Z"
    }
   },
   "outputs": [
    {
     "name": "stdout",
     "output_type": "stream",
     "text": [
      "<class 'pandas.core.frame.DataFrame'>\n",
      "RangeIndex: 20556 entries, 0 to 20555\n",
      "Data columns (total 9 columns):\n",
      " #   Column                 Non-Null Count  Dtype         \n",
      "---  ------                 --------------  -----         \n",
      " 0   Datum                  20556 non-null  datetime64[ns]\n",
      " 1   Keyword                20556 non-null  object        \n",
      " 2   Tags                   20556 non-null  object        \n",
      " 3   Categorie              20556 non-null  object        \n",
      " 4   Visibility_Expert      20556 non-null  float64       \n",
      " 5   Visibility_Coolblue    20556 non-null  float64       \n",
      " 6   Visibility_Mediamarkt  20556 non-null  float64       \n",
      " 7   Visibility_Wehkamp     20556 non-null  float64       \n",
      " 8   Visibility_BCC         20556 non-null  float64       \n",
      "dtypes: datetime64[ns](1), float64(5), object(3)\n",
      "memory usage: 1.4+ MB\n"
     ]
    }
   ],
   "source": [
    "#new dataframe\n",
    "dataset = pd.read_csv('./workfile/visibility.csv')\n",
    "#with some edits\n",
    "dataset.fillna(0, inplace=True)\n",
    "# vis.drop('Unnamed: 0', axis=1, inplace=True)\n",
    "dataset.groupby(['Categorie']).mean().reset_index()\n",
    "dataset['Datum'] =  pd.to_datetime(visibility['Datum'], format='%Y%m%d', infer_datetime_format=True)\n",
    "dataset.info()"
   ]
  },
  {
   "cell_type": "markdown",
   "metadata": {},
   "source": [
    "# NOW THE FUN PART"
   ]
  },
  {
   "cell_type": "code",
   "execution_count": 54,
   "metadata": {
    "ExecuteTime": {
     "end_time": "2020-10-12T09:30:04.501500Z",
     "start_time": "2020-10-12T09:30:04.231709Z"
    }
   },
   "outputs": [
    {
     "data": {
      "image/png": "[encoded data removed]",
      "text/plain": [
       "<Figure size 432x288 with 1 Axes>"
      ]
     },
     "metadata": {
      "needs_background": "light"
     },
     "output_type": "display_data"
    }
   ],
   "source": [
    "#plot is like it's hot\n",
    "pivot = dataset.groupby(['Datum']).mean()\n",
    "pivot.plot(kind='line',title='Visibility Overtime')\n",
    "plt.xlabel('Period', fontsize=14)\n",
    "plt.ylabel('Search Visibility in Google', fontsize=14)\n",
    "plt.style.use('Solarize_Light2')\n",
    "plt.show()"
   ]
  },
  {
   "cell_type": "markdown",
   "metadata": {},
   "source": [
    "# NOW EVEN MORE FUN! INTERACTIVE PLOTTING ^_^"
   ]
  },
  {
   "cell_type": "code",
   "execution_count": 56,
   "metadata": {
    "ExecuteTime": {
     "end_time": "2020-10-12T09:30:29.030966Z",
     "start_time": "2020-10-12T09:30:28.706299Z"
    }
   },
   "outputs": [
    {
     "data": {
      "text/html": [
       "<style>.container { width:100% !important; }</style>"
      ],
      "text/plain": [
       "<IPython.core.display.HTML object>"
      ]
     },
     "metadata": {},
     "output_type": "display_data"
    },
    {
     "data": {
      "application/vnd.jupyter.widget-view+json": {
       "model_id": "bd24652a4f8547948e50747aaa807798",
       "version_major": 2,
       "version_minor": 0
      },
      "text/plain": [
       "interactive(children=(Dropdown(description='Category:', options=('All', 'Koelkast', 'Speaker', 'Merken', 'Comp…"
      ]
     },
     "metadata": {},
     "output_type": "display_data"
    }
   ],
   "source": [
    "#create a widget\n",
    "tags = widgets.Dropdown(\n",
    "    options=['All'] + list(dataset['Categorie'].unique()),\n",
    "    value='All',\n",
    "    description='Category:',\n",
    "        \n",
    ")\n",
    "\n",
    "def plotit(tags):\n",
    "    if 0 > 1:\n",
    "        print('Nothing to show')  \n",
    "    else: \n",
    "        dataset2 = dataset.copy()\n",
    "        if tags != 'All':\n",
    "            dataset2 = dataset2[dataset2.Categorie == tags]\n",
    "            plt.style.use('Solarize_Light2')\n",
    "            plt.show()\n",
    "        \n",
    "        if len(dataset2) > 0:\n",
    "            dataset2.groupby(['Datum']).mean().plot(kind='line',figsize=(14,4))\n",
    "            plt.xlabel('Period', fontsize=14)\n",
    "            plt.ylabel('Search Visibility', fontsize=14)\n",
    "            plt.title('Search Visibility in Google for {}'.format(tags), fontsize=20)\n",
    "            plt.style.use('Solarize_Light2')\n",
    "            plt.show()\n",
    "        else: \n",
    "            print('Nothing to show')\n",
    "            \n",
    "#get a 100% width view for the full experience on this one (optional)\n",
    "display(HTML(\"<style>.container { width:100% !important; }</style>\"))\n",
    "\n",
    "interactive(plotit, tags=tags)"
   ]
  },
  {
   "cell_type": "markdown",
   "metadata": {},
   "source": [
    "# CREATE RANKING REPORT"
   ]
  },
  {
   "cell_type": "code",
   "execution_count": 57,
   "metadata": {
    "ExecuteTime": {
     "end_time": "2020-10-12T09:31:44.102103Z",
     "start_time": "2020-10-12T09:31:44.000638Z"
    }
   },
   "outputs": [
    {
     "name": "stdout",
     "output_type": "stream",
     "text": [
      "<class 'pandas.core.frame.DataFrame'>\n",
      "RangeIndex: 20556 entries, 0 to 20555\n",
      "Data columns (total 10 columns):\n",
      " #   Column               Non-Null Count  Dtype         \n",
      "---  ------               --------------  -----         \n",
      " 0   Datum                20556 non-null  datetime64[ns]\n",
      " 1   Keyword              20556 non-null  object        \n",
      " 2   Search_Volume        20556 non-null  float64       \n",
      " 3   Tags                 20556 non-null  object        \n",
      " 4   Categorie            20556 non-null  object        \n",
      " 5   Rankings_Expert      17279 non-null  float64       \n",
      " 6   Rankings_Coolblue    20307 non-null  float64       \n",
      " 7   Rankings_Mediamarkt  19307 non-null  float64       \n",
      " 8   Rankings_Wehkamp     15492 non-null  float64       \n",
      " 9   Rankings_BCC         19553 non-null  float64       \n",
      "dtypes: datetime64[ns](1), float64(6), object(3)\n",
      "memory usage: 1.6+ MB\n"
     ]
    }
   ],
   "source": [
    "#get the data in place\n",
    "rnk = pd.read_csv('./workfile/ranking.csv') # <<-- remember we created this file earlier? ^_^\n",
    "rnk.fillna(0, inplace=True)\n",
    "rnk['Datum'] =  pd.to_datetime(rnk['Datum'], format='%Y%m%d', infer_datetime_format=True)\n",
    "rnk[rnk.eq(0)] = np.nan\n",
    "rnk.info()"
   ]
  },
  {
   "cell_type": "code",
   "execution_count": 58,
   "metadata": {
    "ExecuteTime": {
     "end_time": "2020-10-12T09:31:45.486546Z",
     "start_time": "2020-10-12T09:31:45.162379Z"
    }
   },
   "outputs": [
    {
     "data": {
      "text/html": [
       "<style>.container { width:100% !important; }</style>"
      ],
      "text/plain": [
       "<IPython.core.display.HTML object>"
      ]
     },
     "metadata": {},
     "output_type": "display_data"
    },
    {
     "data": {
      "application/vnd.jupyter.widget-view+json": {
       "model_id": "72df1e432c1b47509787eace9c7d6104",
       "version_major": 2,
       "version_minor": 0
      },
      "text/plain": [
       "interactive(children=(Dropdown(description='Category:', options=('All', 'Koelkast', 'Speaker', 'Merken', 'Comp…"
      ]
     },
     "metadata": {},
     "output_type": "display_data"
    }
   ],
   "source": [
    "#create a widget\n",
    "tags = widgets.Dropdown(\n",
    "    options=['All'] + list(rnk['Categorie'].unique()),\n",
    "    value='All',\n",
    "    description='Category:',        \n",
    ")\n",
    "\n",
    "def plotit(tags):\n",
    "    if 0 > 1:\n",
    "        print('Nothing to show')  \n",
    "    else: \n",
    "        dataset2 = rnk.copy()\n",
    "        if tags != 'All':\n",
    "            dataset2 = dataset2[dataset2.Categorie == tags]\n",
    "            plt.style.use('Solarize_Light2')\n",
    "            plt.show()\n",
    "        \n",
    "        if len(dataset2) > 0:\n",
    "            dataset2.drop('Search_Volume', axis=1, inplace=True)\n",
    "            dataset2.groupby(['Datum']).mean().plot(kind='line',figsize=(14,4))\n",
    "            plt.xlabel('Period', fontsize=14)\n",
    "            plt.ylabel('Rankings in Google', fontsize=14)\n",
    "            plt.gca().invert_yaxis()\n",
    "            plt.title('Rankings in Google for category {}'.format(tags), fontsize=20)\n",
    "            plt.style.use('Solarize_Light2')\n",
    "            plt.show()\n",
    "        else: \n",
    "            print('Nothing to show')\n",
    "\n",
    "#get a 100% width view for the full experience on this one (optional)\n",
    "display(HTML(\"<style>.container { width:100% !important; }</style>\"))\n",
    "\n",
    "interactive(plotit, tags=tags)"
   ]
  },
  {
   "cell_type": "code",
   "execution_count": 59,
   "metadata": {
    "ExecuteTime": {
     "end_time": "2020-10-12T09:31:46.924487Z",
     "start_time": "2020-10-12T09:31:46.587282Z"
    }
   },
   "outputs": [
    {
     "data": {
      "text/html": [
       "<style>.container { width:100% !important; }</style>"
      ],
      "text/plain": [
       "<IPython.core.display.HTML object>"
      ]
     },
     "metadata": {},
     "output_type": "display_data"
    },
    {
     "data": {
      "application/vnd.jupyter.widget-view+json": {
       "model_id": "b08939d4880445af92acd9ebf6e32886",
       "version_major": 2,
       "version_minor": 0
      },
      "text/plain": [
       "interactive(children=(Dropdown(description='Category:', options=('All', 'Koelkast', 'Speaker', 'Merken', 'Comp…"
      ]
     },
     "metadata": {},
     "output_type": "display_data"
    }
   ],
   "source": [
    "## WE CAN DO THE SAME FOR ALL EACH KEYWORD ##\n",
    "kws = widgets.Dropdown(\n",
    "    options=['All'] + list(rnk['Keyword'].unique()),\n",
    "    value='All',\n",
    "    description='Keyword:',        \n",
    ")\n",
    "\n",
    "def plotit2(kws):\n",
    "    if 0 > 1:\n",
    "        print('Nothing to show')  \n",
    "    else: \n",
    "        dataset2 = rnk.copy()\n",
    "        if kws != 'All':\n",
    "            dataset2 = dataset2[dataset2.Keyword == kws]\n",
    "            plt.style.use('Solarize_Light2')\n",
    "            plt.show()\n",
    "        \n",
    "        if len(dataset2) > 0:\n",
    "            dataset2.drop('Search_Volume', axis=1, inplace=True)\n",
    "            dataset2.groupby(['Datum']).mean().plot(kind='line',figsize=(14,4))\n",
    "            plt.xlabel('Period', fontsize=14)\n",
    "            plt.ylabel('Rankings in Google', fontsize=14)\n",
    "            plt.gca().invert_yaxis()\n",
    "            plt.title('Rankings in Google for keyword [{}]'.format(kws), fontsize=20)\n",
    "            plt.style.use('Solarize_Light2')\n",
    "            plt.show()\n",
    "        else: \n",
    "            print('Nothing to show') \n",
    "            \n",
    "#get a 100% width view for the full experience on this one (optiional)\n",
    "display(HTML(\"<style>.container { width:100% !important; }</style>\"))\n",
    "\n",
    "interactive(plotit, tags=tags)"
   ]
  },
  {
   "cell_type": "markdown",
   "metadata": {},
   "source": [
    "# PIVOT INTO ACTIONABLE AND INTERACTIVE TABLE"
   ]
  },
  {
   "cell_type": "code",
   "execution_count": 60,
   "metadata": {
    "ExecuteTime": {
     "end_time": "2020-10-12T09:31:48.406162Z",
     "start_time": "2020-10-12T09:31:48.322370Z"
    }
   },
   "outputs": [],
   "source": [
    "#do some data tweaks\n",
    "pivot_df = pd.read_csv('./workfile/ranking.csv')\n",
    "pivot_df[pivot_df.eq(0)] = np.nan\n",
    "pivot_df[\"Search_Volume\"] = pivot_df[\"Search_Volume\"].astype(int)\n",
    "pivot_df['Datum'] =  pd.to_datetime(pivot_df['Datum'], format='%Y%m%d', infer_datetime_format=True)\n",
    "pivot_df.info()"
   ]
  },
  {
   "cell_type": "code",
   "execution_count": 64,
   "metadata": {
    "ExecuteTime": {
     "end_time": "2020-10-12T09:32:45.987622Z",
     "start_time": "2020-10-12T09:32:45.961692Z"
    }
   },
   "outputs": [
    {
     "data": {
      "text/html": [
       "<div>\n",
       "<style scoped>\n",
       "    .dataframe tbody tr th:only-of-type {\n",
       "        vertical-align: middle;\n",
       "    }\n",
       "\n",
       "    .dataframe tbody tr th {\n",
       "        vertical-align: top;\n",
       "    }\n",
       "\n",
       "    .dataframe thead th {\n",
       "        text-align: right;\n",
       "    }\n",
       "</style>\n",
       "<table border=\"1\" class=\"dataframe\">\n",
       "  <thead>\n",
       "    <tr style=\"text-align: right;\">\n",
       "      <th></th>\n",
       "      <th>Datum</th>\n",
       "      <th>Keyword</th>\n",
       "      <th>Categorie</th>\n",
       "      <th>Search_Volume</th>\n",
       "      <th>Tags</th>\n",
       "      <th>Rankings_BCC</th>\n",
       "    </tr>\n",
       "  </thead>\n",
       "  <tbody>\n",
       "    <tr>\n",
       "      <th>0</th>\n",
       "      <td>2020-01-29</td>\n",
       "      <td>beko koelkast</td>\n",
       "      <td>Koelkast</td>\n",
       "      <td>2400</td>\n",
       "      <td>keuken|koelkast</td>\n",
       "      <td>7.0</td>\n",
       "    </tr>\n",
       "    <tr>\n",
       "      <th>1479</th>\n",
       "      <td>2020-01-29</td>\n",
       "      <td>soundbar</td>\n",
       "      <td>Soundbar</td>\n",
       "      <td>27100</td>\n",
       "      <td>beeld en geluid|soundbar</td>\n",
       "      <td>12.0</td>\n",
       "    </tr>\n",
       "    <tr>\n",
       "      <th>14197</th>\n",
       "      <td>2020-01-29</td>\n",
       "      <td>sony koptelefoon</td>\n",
       "      <td>Koptelefoon</td>\n",
       "      <td>2400</td>\n",
       "      <td>beeld en geluid|koptelefoon</td>\n",
       "      <td>6.0</td>\n",
       "    </tr>\n",
       "    <tr>\n",
       "      <th>14191</th>\n",
       "      <td>2020-01-29</td>\n",
       "      <td>elektrisch kookplaatje</td>\n",
       "      <td>Fornuis en kookplaat</td>\n",
       "      <td>9900</td>\n",
       "      <td>keuken|kookplaat</td>\n",
       "      <td>12.0</td>\n",
       "    </tr>\n",
       "    <tr>\n",
       "      <th>14173</th>\n",
       "      <td>2020-01-29</td>\n",
       "      <td>sony bravia tv</td>\n",
       "      <td>Televisie</td>\n",
       "      <td>2400</td>\n",
       "      <td>beeld en geluid|televisie</td>\n",
       "      <td>11.0</td>\n",
       "    </tr>\n",
       "    <tr>\n",
       "      <th>...</th>\n",
       "      <td>...</td>\n",
       "      <td>...</td>\n",
       "      <td>...</td>\n",
       "      <td>...</td>\n",
       "      <td>...</td>\n",
       "      <td>...</td>\n",
       "    </tr>\n",
       "    <tr>\n",
       "      <th>17904</th>\n",
       "      <td>2020-09-30</td>\n",
       "      <td>mini laptop</td>\n",
       "      <td>Laptop</td>\n",
       "      <td>3600</td>\n",
       "      <td>computer|laptop</td>\n",
       "      <td>19.0</td>\n",
       "    </tr>\n",
       "    <tr>\n",
       "      <th>10561</th>\n",
       "      <td>2020-09-30</td>\n",
       "      <td>karcher stofzuiger</td>\n",
       "      <td>Stofzuiger</td>\n",
       "      <td>2900</td>\n",
       "      <td>huishouden|stofzuiger</td>\n",
       "      <td>7.0</td>\n",
       "    </tr>\n",
       "    <tr>\n",
       "      <th>13520</th>\n",
       "      <td>2020-09-30</td>\n",
       "      <td>samsung oortjes</td>\n",
       "      <td>Koptelefoon</td>\n",
       "      <td>6600</td>\n",
       "      <td>beeld en geluid|oortjes</td>\n",
       "      <td>10.0</td>\n",
       "    </tr>\n",
       "    <tr>\n",
       "      <th>8613</th>\n",
       "      <td>2020-09-30</td>\n",
       "      <td>heos soundbar</td>\n",
       "      <td>Soundbar</td>\n",
       "      <td>3600</td>\n",
       "      <td>beeld en geluid|soundbar</td>\n",
       "      <td>30.0</td>\n",
       "    </tr>\n",
       "    <tr>\n",
       "      <th>16728</th>\n",
       "      <td>2020-09-30</td>\n",
       "      <td>stofzuiger aanbieding</td>\n",
       "      <td>Stofzuiger</td>\n",
       "      <td>4400</td>\n",
       "      <td>huishouden|stofzuiger</td>\n",
       "      <td>6.0</td>\n",
       "    </tr>\n",
       "  </tbody>\n",
       "</table>\n",
       "<p>20556 rows × 6 columns</p>\n",
       "</div>"
      ],
      "text/plain": [
       "           Datum                 Keyword             Categorie  Search_Volume  \\\n",
       "0     2020-01-29           beko koelkast              Koelkast           2400   \n",
       "1479  2020-01-29                soundbar              Soundbar          27100   \n",
       "14197 2020-01-29        sony koptelefoon           Koptelefoon           2400   \n",
       "14191 2020-01-29  elektrisch kookplaatje  Fornuis en kookplaat           9900   \n",
       "14173 2020-01-29          sony bravia tv             Televisie           2400   \n",
       "...          ...                     ...                   ...            ...   \n",
       "17904 2020-09-30             mini laptop                Laptop           3600   \n",
       "10561 2020-09-30      karcher stofzuiger            Stofzuiger           2900   \n",
       "13520 2020-09-30         samsung oortjes           Koptelefoon           6600   \n",
       "8613  2020-09-30           heos soundbar              Soundbar           3600   \n",
       "16728 2020-09-30   stofzuiger aanbieding            Stofzuiger           4400   \n",
       "\n",
       "                              Tags  Rankings_BCC  \n",
       "0                  keuken|koelkast           7.0  \n",
       "1479      beeld en geluid|soundbar          12.0  \n",
       "14197  beeld en geluid|koptelefoon           6.0  \n",
       "14191             keuken|kookplaat          12.0  \n",
       "14173    beeld en geluid|televisie          11.0  \n",
       "...                            ...           ...  \n",
       "17904              computer|laptop          19.0  \n",
       "10561        huishouden|stofzuiger           7.0  \n",
       "13520      beeld en geluid|oortjes          10.0  \n",
       "8613      beeld en geluid|soundbar          30.0  \n",
       "16728        huishouden|stofzuiger           6.0  \n",
       "\n",
       "[20556 rows x 6 columns]"
      ]
     },
     "execution_count": 64,
     "metadata": {},
     "output_type": "execute_result"
    }
   ],
   "source": [
    "rankings = pivot_df[['Datum', 'Keyword', 'Categorie', 'Search_Volume', 'Tags', 'Rankings_BCC']]\n",
    "rankings.sort_values(by='Datum')"
   ]
  },
  {
   "cell_type": "code",
   "execution_count": 65,
   "metadata": {
    "ExecuteTime": {
     "end_time": "2020-10-12T09:52:58.967065Z",
     "start_time": "2020-10-12T09:52:58.634993Z"
    }
   },
   "outputs": [
    {
     "data": {
      "text/html": [
       "\n",
       "        <iframe\n",
       "            width=\"100%\"\n",
       "            height=\"500\"\n",
       "            src=\"pivottablejs.html\"\n",
       "            frameborder=\"0\"\n",
       "            allowfullscreen\n",
       "        ></iframe>\n",
       "        "
      ],
      "text/plain": [
       "<IPython.lib.display.IFrame at 0x1d548d62888>"
      ]
     },
     "execution_count": 65,
     "metadata": {},
     "output_type": "execute_result"
    }
   ],
   "source": [
    "#create interactive pivot (to see in new tab: go to http://localhost:{PORT}/files/{YOUR_PROJECT_LOCATION}/pivottablejs.html)\n",
    "pivot_ui(rankings,      \n",
    "    cols= [\"Datum\"],\n",
    "    rows= [\"Search_Volume\"],\n",
    "    rowOrder= \"value_a_to_z\",\n",
    "    rendererOptions= {\n",
    "        \"c3\": { \"data\": {\"colors\": {\n",
    "            \"Liberal\": '#dc3912', \"Conservative\": '#3366cc', \"NDP\": '#ff9900',\n",
    "            \"Green\":'#109618', 'Bloc Quebecois': '#990099'\n",
    "        }}}\n",
    "    }\n",
    ")"
   ]
  },
  {
   "cell_type": "code",
   "execution_count": null,
   "metadata": {},
   "outputs": [],
   "source": []
  }
 ],
 "metadata": {
  "hide_input": false,
  "kernelspec": {
   "display_name": "Python 3",
   "language": "python",
   "name": "python3"
  },
  "language_info": {
   "codemirror_mode": {
    "name": "ipython",
    "version": 3
   },
   "file_extension": ".py",
   "mimetype": "text/x-python",
   "name": "python",
   "nbconvert_exporter": "python",
   "pygments_lexer": "ipython3",
   "version": "3.7.7"
  }
 },
 "nbformat": 4,
 "nbformat_minor": 4
}
